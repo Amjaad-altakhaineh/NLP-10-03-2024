{
 "cells": [
  {
   "cell_type": "markdown",
   "metadata": {},
   "source": [
    "# NLP Hands-on Project "
   ]
  },
  {
   "cell_type": "markdown",
   "metadata": {},
   "source": [
    "# Restaurant Review Dataset:\n",
    "\n",
    "1. Primary Goal: This dataset is designed to train and evaluate machine learning models for understanding and analyzing customer sentiment and opinions expressed in restaurant reviews.\n",
    "2. Applications: The processed data can be used for various tasks, including:\n",
    "-  Sentiment Analysis: Classifying reviews as positive, negative, or neutral to assess customer satisfaction.\n",
    "-  Aspect Extraction: Identifying specific aspects of the restaurant experience that customers mention, such as food quality, service, ambiance, etc.\n",
    "-  Recommendation Systems: Recommending restaurants to users based on their preferences and historical review data.\n",
    "-  Topic Modeling: Discovering underlying themes and topics that frequently arise in reviews, potentially revealing areas for improvement or highlighting popular features.\n",
    "# Key Considerations:\n",
    "\n",
    "- Data Cleaning and Preprocessing: As noted in the ratings, real-world datasets often require careful cleaning and preprocessing to remove irrelevant information (e.g., stop words, punctuation) and prepare the data for modeling.\n",
    "- Textual Nature: NLP techniques are essential to process this textual data in order to extract meaningful insights.\n",
    "- Understanding Context: Sentiment understanding goes beyond individual words. Context within sentences and the overall review should be considered for accurate sentiment analysis.\n",
    "# Additional Insights from Ratings:\n",
    "\n",
    "1. Data Quality: The quality and representativeness of the dataset are crucial for training effective models. It's essential to have a diverse collection of reviews that reflects the real-world distribution of customer experiences.\n",
    "2. Model Selection and Training: Choosing the appropriate NLP algorithms and tuning them effectively through training is crucial to achieve good performance in sentiment analysis and other NLP tasks.\n",
    "3. Evaluation and Interpretation: Evaluating model performance on unseen data and interpreting the results are vital to assess the model'sgeneralizability and real-world applicability.\n",
    "#Incorporating Feedback:\n",
    "\n",
    "Headings: While the dataset may or may not contain explicit headings, identifying clear categories or labels within the data can be helpful for organizing and structuring the reviews.\n",
    "Missing Values: Missing values can potentially affect the analysis. Techniques like data imputation or model-based strategies might be needed to address them.\n",
    "Ethical Considerations: When collecting and using data, it's essential to prioritize user privacy and ensure data anonymization as much as possible.\n",
    "By understanding these core points and addressing the considerations raised in the ratings, you can effectively leverage NLP techniques to extract valuable insights from restaurant review data for various applications."
   ]
  },
  {
   "cell_type": "markdown",
   "metadata": {},
   "source": [
    "# How to Clean Text for Machine Learning with Python\n"
   ]
  },
  {
   "cell_type": "markdown",
   "metadata": {},
   "source": [
    "You cannot go straight from raw text to fitting a machine learning or deep learning model.\n",
    "\n",
    "You must clean your text first, which means splitting it into words and handling punctuation and case.\n",
    "\n",
    "## In fact, there is a whole suite of text preparation methods that you may need to use, and the choice of methods really depends on your natural language processing task.\n",
    "\n",
    "In this tutorial, you will discover how you can clean and prepare your text ready for modeling with machine learning.\n",
    "\n",
    "- After completing this tutorial, you will know:\n",
    "\n",
    "- How to get started by developing your own very simple text cleaning tools.\n",
    "- How to take a step up and use the more sophisticated methods in the NLTK library.\n",
    "- How to prepare text when using modern text representation methods like word embeddings."
   ]
  },
  {
   "cell_type": "markdown",
   "metadata": {},
   "source": [
    "# To apply NLP techniques to this dataset, you would typically follow these steps:\n",
    "\n",
    "1. Data Preprocessing:\n",
    "\n",
    "Clean the text data by removing any unwanted characters, converting text to lowercase, and handling any missing or inconsistent values.\n",
    "Tokenize the review text to break it down into individual words or tokens. Apply stemming or lemmatization to reduce words to their base form and remove stopwords if necessary.\n",
    "\n",
    "2. Feature Extraction:\n",
    "\n",
    "Convert the tokenized text data into numerical representations that can be used by machine learning models. This can be done using techniques such as TF-IDF vectorization or word embeddings. Prepare the feature matrix (X) containing the numerical representations of the review text.\n",
    "\n",
    "3. Model Training:\n",
    "\n",
    "Split the dataset into training and testing sets to evaluate the performance of the model. Train a binary classification model (e.g., logistic regression, support vector machine, or neural network) using the training data.\n",
    "\n",
    "4. Model Evaluation:\n",
    "\n",
    "Evaluate the trained model using the testing data to assess its performance in predicting whether reviewers liked the restaurant.\n",
    "Calculate evaluation metrics such as accuracy, precision, recall, and F1-score to measure the model's effectiveness.\n"
   ]
  },
  {
   "cell_type": "markdown",
   "metadata": {},
   "source": [
    "# Import Libraries:\n",
    "\n",
    "1. nltk: Provides tools for NLP tasks.\n",
    "stopwords: Offers a list of common stop words in various languages.\n",
    "2. re: Enables regular expression operations for robust text cleaning.\n",
    "3. Download Resources: Uncomment these lines if you haven't already downloaded the necessary NLTK resources (stop words and sentence tokenizer)."
   ]
  },
  {
   "cell_type": "code",
   "execution_count": 1,
   "metadata": {},
   "outputs": [
    {
     "name": "stderr",
     "output_type": "stream",
     "text": [
      "[nltk_data] Downloading package punkt to C:\\Users\\Odai For\n",
      "[nltk_data]     Computer\\AppData\\Roaming\\nltk_data...\n",
      "[nltk_data]   Package punkt is already up-to-date!\n",
      "[nltk_data] Downloading package stopwords to C:\\Users\\Odai For\n",
      "[nltk_data]     Computer\\AppData\\Roaming\\nltk_data...\n",
      "[nltk_data]   Package stopwords is already up-to-date!\n"
     ]
    }
   ],
   "source": [
    "\"\"\"   Round 1 libraries \"\"\"\n",
    "import numpy as np\n",
    "import pandas as pd\n",
    "import re\n",
    "import nltk\n",
    "from nltk.corpus import stopwords# Importing the stopword-data \n",
    "from nltk.tokenize import word_tokenize\n",
    "from nltk.stem.porter import PorterStemmer\n",
    "from sklearn.feature_extraction.text import CountVectorizer\n",
    "nltk.download('punkt')\n",
    "nltk.download('stopwords')\n",
    "all_stopwords=set(stopwords.words('english')) "
   ]
  },
  {
   "cell_type": "markdown",
   "metadata": {},
   "source": [
    "#  Read the required  Dataset \n",
    "\n"
   ]
  },
  {
   "cell_type": "code",
   "execution_count": null,
   "metadata": {},
   "outputs": [],
   "source": [
    "\n",
    "data = pd.read_csv('Restaurant_Reviews.tsv', delimiter = '\\t')"
   ]
  },
  {
   "cell_type": "markdown",
   "metadata": {},
   "source": [
    "# Data Information:\n",
    "You can use the pandas library in Python to load your dataset and view its structure using the head() and info() functions. Here's an example:"
   ]
  },
  {
   "cell_type": "code",
   "execution_count": null,
   "metadata": {},
   "outputs": [],
   "source": [
    "\n",
    "# Display the first few rows of the dataset\n",
    "print(data.head())\n",
    "\n",
    "# Display information about the dataset\n",
    "print(data.info())\n"
   ]
  },
  {
   "cell_type": "markdown",
   "metadata": {},
   "source": [
    "# Missing Value Handling:\n",
    "To handle missing values in your dataset, you can use techniques like imputation (replacing missing values with a sensible estimate) or deletion (removing rows or columns with missing values). Here's how you can check for missing values and handle them using pandas:"
   ]
  },
  {
   "cell_type": "code",
   "execution_count": null,
   "metadata": {},
   "outputs": [],
   "source": [
    "# Check for missing values\n",
    "print(data.isnull().sum())\n",
    "\n",
    "# Remove rows with missing values\n",
    "data.dropna(inplace=True)\n",
    "\n",
    "# Fill missing values with a specific value\n",
    "# df.fillna(value, inplace=True)\n"
   ]
  },
  {
   "cell_type": "markdown",
   "metadata": {},
   "source": [
    "# Balanced Dataset:\n",
    "A balanced dataset is one in which the distribution of classes (or labels) is approximately equal or evenly distributed. In other words, each class or label in the dataset has a similar number of instances or samples.\n",
    "\n",
    "Characteristics:\n",
    "Equal Distribution: Each class or label in the dataset has a comparable number of instances. For example, in a binary classification problem, if one class has 500 instances, the other class also has around 500 instances.\n",
    "No Bias Towards Specific Classes: There is no significant bias towards any particular class in the dataset. This ensures that the model trained on the dataset is not skewed towards predicting one class over others.\n",
    "Reliable Model Evaluation: Since each class is represented fairly equally, model evaluation metrics such as accuracy, precision, recall, and F1-score provide reliable performance measures.\n",
    "Example:\n",
    "Consider a dataset containing images of cats and dogs for a classification task. If the dataset contains 500 images of cats and 500 images of dogs, it would be considered a balanced dataset.\n",
    "\n",
    "# Imbalanced Dataset:\n",
    "An imbalanced dataset is one in which the distribution of classes is skewed, with one or more classes having significantly fewer instances compared to others. This often occurs in real-world scenarios where certain classes are rare or less frequent.\n",
    "\n",
    "Characteristics:\n",
    "Skewed Class Distribution: One or more classes have a disproportionately large or small number of instances compared to other classes. This results in an unequal distribution of classes.\n",
    "Minority Class: The class with fewer instances is often referred to as the minority class, while the class with more instances is called the majority class.\n",
    "Model Bias: Imbalanced datasets can lead to biased models that favor the majority class and perform poorly on minority classes.\n",
    "Challenges in Model Evaluation: Traditional evaluation metrics such as accuracy may not accurately reflect the model's performance, as a model can achieve high accuracy by simply predicting the majority class for all instances.\n",
    "Example:\n",
    "In a credit card fraud detection dataset, where fraudulent transactions are rare compared to legitimate transactions, the dataset might contain 95% legitimate transactions and only 5% fraudulent transactions. This would be considered an imbalanced dataset.\n",
    "\n",
    "# Handling Imbalanced Datasets:\n",
    "Handling imbalanced datasets requires special attention to ensure that the model does not become biased towards the majority class. Techniques for addressing imbalance include:\n",
    "\n",
    "Resampling: This involves either oversampling the minority class (adding more instances of the minority class) or undersampling the majority class (removing instances of the majority class).\n",
    "Synthetic Minority Over-sampling Technique (SMOTE): SMOTE generates synthetic samples for the minority class to balance the dataset.\n",
    "Cost-sensitive Learning: Assigning higher misclassification costs to minority class instances to encourage the model to focus on correctly predicting the minority class.\n",
    "Ensemble Methods: Using ensemble methods such as bagging or boosting algorithms that are inherently robust to class imbalance.\n",
    "Different Evaluation Metrics: Using evaluation metrics such as precision, recall, F1-score, or area under the ROC curve (AUC-ROC) that are more suitable for imbalanced datasets.\n",
    "By understanding the characteristics of balanced and imbalanced datasets and employing appropriate techniques, you can effectively train models that generalize well to real-world scenarios.\n",
    "\n",
    "- U can use the Histogram Figure to visualize the output values as below:"
   ]
  },
  {
   "cell_type": "code",
   "execution_count": null,
   "metadata": {},
   "outputs": [],
   "source": [
    "\n",
    "# Unique values in a column\n",
    "print(\"\\nUnique values in the 'Review' column:\")\n",
    "print(data['Liked'].unique())\n",
    "# Count the number of items in the 'liked' column\n",
    "liked_counts = data['Liked'].value_counts()\n",
    "\n",
    "'''' visilization  ''' \n",
    "data['Liked'].hist(bins=10) "
   ]
  },
  {
   "cell_type": "markdown",
   "metadata": {},
   "source": [
    "# Tokenization:\n",
    "\n",
    "Purpose: Tokenization breaks down text into individual units like words, numbers, or punctuation marks. This allows further processing and analysis.\n",
    "Example (NLTK Library):"
   ]
  },
  {
   "cell_type": "code",
   "execution_count": null,
   "metadata": {},
   "outputs": [],
   "source": [
    "without_cleaning=data['Review'][111]\n",
    "sentences = word_tokenize(without_cleaning)"
   ]
  },
  {
   "cell_type": "markdown",
   "metadata": {},
   "source": [
    "# Regular Expressions (RegEx):\n",
    "\n",
    "Purpose: RegEx allows you to define patterns for efficiently searching, matching, and manipulating text.\n",
    "Syntax: It uses a special syntax with metacharacters like ^ (take all the characters defined inside the []  ), + (matches one or more occurrences), . (matches any single character), and character classes like [] (matches any character within the brackets). --- But be carfull convert the list to text using join function "
   ]
  },
  {
   "cell_type": "code",
   "execution_count": null,
   "metadata": {},
   "outputs": [],
   "source": [
    "after_cleaning_1 = re.sub('[^a-zA-Z ]', '', \" \".join(sentences))"
   ]
  },
  {
   "cell_type": "markdown",
   "metadata": {},
   "source": [
    "# Lowercasing:\n",
    "\n",
    "Purpose: Converting all characters to lowercase ensures consistency in word representation. This is helpful for NLP tasks because some algorithms are case-sensitive.\n",
    "Example:"
   ]
  },
  {
   "cell_type": "code",
   "execution_count": null,
   "metadata": {},
   "outputs": [],
   "source": [
    "after_lower=after_cleaning_1.lower()"
   ]
  },
  {
   "cell_type": "markdown",
   "metadata": {},
   "source": [
    "# Stop Words:\n",
    "\n",
    "Purpose: Stop words are common words in a language that carry little meaning on their own. Removing them can help focus on the more content-rich words in a text.\n",
    "\n",
    "\n",
    "# Stemming:\n",
    "\n",
    "Purpose: Stemming reduces a word to its base form (stem) by removing suffixes. This helps group related words together for analysis.\n"
   ]
  },
  {
   "cell_type": "code",
   "execution_count": null,
   "metadata": {},
   "outputs": [],
   "source": [
    "\n",
    "all_stopwords.remove(\"not\")\n",
    "ps = PorterStemmer()\n",
    "after_stopwords = [ps.stem(word) for word in word_tokenize(after_lower) if not word in all_stopwords]\n",
    "After_cleaning = ' '.join(after_stopwords)\n",
    "\n",
    "   \n"
   ]
  },
  {
   "cell_type": "markdown",
   "metadata": {},
   "source": [
    "\n",
    "# Apply the following processes to the entire dataset:"
   ]
  },
  {
   "cell_type": "code",
   "execution_count": null,
   "metadata": {},
   "outputs": [],
   "source": [
    "corpus = []\n",
    "for i in range(0, 1000):\n",
    "   without_cleaning=data['Review'][i]\n",
    "   sentences = word_tokenize(without_cleaning)\n",
    "   after_cleaning_1 = re.sub('[^a-zA-Z ]', '', \" \".join(sentences))\n",
    "   after_lower=after_cleaning_1.lower()\n",
    "   ps = PorterStemmer()\n",
    "   after_stopwords = [ps.stem(word) for word in word_tokenize(after_lower) if not word in all_stopwords]\n",
    "   After_cleaning = ' '.join(after_stopwords)\n",
    "   corpus.append( After_cleaning)"
   ]
  },
  {
   "cell_type": "markdown",
   "metadata": {},
   "source": [
    "# \"\"\"  revised-round \"\"\""
   ]
  },
  {
   "cell_type": "code",
   "execution_count": null,
   "metadata": {},
   "outputs": [],
   "source": [
    "\"\"\"  revised-round \"\"\"\n",
    "revised=[]\n",
    "for m in range(0, 1000):\n",
    "    aftersplit=corpus[m].split(\" \")\n",
    "    revised.extend(aftersplit)\n",
    "from collections import Counter \n",
    "count=Counter(revised)\n",
    "top_10 = count.most_common(2)\n",
    "\n"
   ]
  },
  {
   "cell_type": "markdown",
   "metadata": {},
   "source": [
    "# CountVectorizer and TfidfVectorizer: \n",
    "\n",
    "\n",
    "1. Feature Extraction:\n",
    "Conversion of Text Data to Numerical Representations: Machine learning algorithms require numerical input data. CountVectorizer and TfidfVectorizer convert textual data into numerical feature vectors that can be used for modeling.\n",
    "Sparse Matrix Representation: They create sparse matrices efficiently, representing the presence or absence of words in documents.\n",
    "2. Handling Text Data:\n",
    "Preprocessing: They handle common text preprocessing tasks such as tokenization, lowercasing, and stop word removal.\n",
    "Normalization: TfidfVectorizer normalizes term frequencies by accounting for document length, which can be essential for comparing documents of different lengths.\n",
    "Dimensionality Reduction: By converting text data into a matrix representation, they reduce the dimensionality of the data, making it suitable for machine learning algorithms.\n",
    "3. Importance of Words:\n",
    "Frequency Analysis: CountVectorizer counts the occurrences of each word in a document, providing insights into the importance of words within individual documents.\n",
    "Term Importance: TfidfVectorizer assigns higher weights to terms that are important in a document but not frequent across all documents. This helps in identifying significant terms that differentiate documents.\n",
    "4. Applications in NLP Tasks:\n",
    "Text Classification: They are widely used for sentiment analysis, spam detection, topic classification, and other text classification tasks.\n",
    "Information Retrieval: In search engines, they help in ranking documents based on relevance to a query.\n",
    "Document Clustering: They assist in clustering similar documents together based on their textual content.\n",
    "Keyword Extraction: They aid in identifying important keywords or phrases within documents.\n",
    "5. Flexibility and Customization:\n",
    "Parameter Tuning: Both CountVectorizer and TfidfVectorizer offer various parameters that can be tuned to customize their behavior, such as n-gram ranges, stop word lists, and token patterns.\n",
    "Integration with Pipelines: They seamlessly integrate with scikit-learn's pipeline framework, allowing for easy integration into machine learning workflows.\n",
    "In summary, CountVectorizer and TfidfVectorizer are indispensable tools for processing and analyzing textual data in a wide range of applications. They facilitate the conversion of raw text into a format that can be effectively used by machine learning algorithms, enabling various NLP tasks and text mining analyses."
   ]
  },
  {
   "attachments": {
    "image-2.png": {
     "image/png": "[encoded data removed]"
    }
   },
   "cell_type": "markdown",
   "metadata": {},
   "source": [
    "# CountVectorizer:\n",
    "CountVectorizer is a feature extraction technique used to convert text data into numerical representations. It counts the frequency of each word (token) in the document and creates a sparse matrix where each row represents a document and each column represents a unique word in the entire corpus.\n",
    "\n",
    "Example:\n",
    "Consider the following two documents:\n",
    "\n",
    "\"The cat sat on the mat.\"\n",
    "\"The dog played with the ball.\"\n",
    "The CountVectorizer would convert these documents into the following sparse matrix:\n",
    "\n",
    "\n",
    "![image-2.png](attachment:image-2.png)"
   ]
  },
  {
   "cell_type": "markdown",
   "metadata": {},
   "source": [
    "Each row corresponds to a document, and each column corresponds to a unique word in the corpus. The values represent the count of each word in the respective document.\n",
    "\n",
    "Code Example:\n",
    "Here's how you can use CountVectorizer in Python using scikit-learn:"
   ]
  },
  {
   "cell_type": "code",
   "execution_count": 3,
   "metadata": {},
   "outputs": [
    {
     "name": "stdout",
     "output_type": "stream",
     "text": [
      "Vocabulary (unique words): ['ball' 'cat' 'dog' 'mat' 'on' 'played' 'sat' 'the' 'with']\n",
      "Document-Term Matrix:\n",
      "[[0 1 0 1 1 0 1 2 0]\n",
      " [1 0 1 0 0 1 0 2 1]]\n"
     ]
    }
   ],
   "source": [
    "from sklearn.feature_extraction.text import CountVectorizer\n",
    "\n",
    "# Sample documents\n",
    "documents = [\n",
    "    \"The cat sat on the mat.\",\n",
    "    \"The dog played with the ball.\"\n",
    "]\n",
    "\n",
    "# Create CountVectorizer object\n",
    "count_vectorizer = CountVectorizer()\n",
    "\n",
    "# Fit and transform the documents\n",
    "X_count = count_vectorizer.fit_transform(documents)\n",
    "\n",
    "# Convert sparse matrix to array for readability (optional)\n",
    "X_count_array = X_count.toarray()\n",
    "\n",
    "# Display the vocabulary (unique words)\n",
    "print(\"Vocabulary (unique words):\", count_vectorizer.get_feature_names_out())\n",
    "\n",
    "# Display the document-term matrix\n",
    "print(\"Document-Term Matrix:\")\n",
    "print(X_count_array)"
   ]
  },
  {
   "attachments": {
    "image.png": {
     "image/png": "[encoded data removed]"
    }
   },
   "cell_type": "markdown",
   "metadata": {},
   "source": [
    "# TfidfVectorizer:\n",
    "TfidfVectorizer stands for Term Frequency-Inverse Document Frequency Vectorizer. It is similar to CountVectorizer but takes into account not only the frequency of a word in a document but also its importance in the entire corpus. It penalizes words that occur frequently across all documents and assigns higher weights to words that are unique to specific documents.\n",
    "\n",
    "Example:\n",
    "Consider the same two documents as before. The TfidfVectorizer would convert them into the following sparse matrix:\n",
    "![image.png](attachment:image.png)"
   ]
  },
  {
   "cell_type": "code",
   "execution_count": null,
   "metadata": {},
   "outputs": [],
   "source": [
    "from sklearn.feature_extraction.text import TfidfVectorizer\n",
    "\n",
    "# Sample documents (same as before)\n",
    "documents = [\n",
    "    \"The cat sat on the mat.\",\n",
    "    \"The dog played with the ball.\"\n",
    "]\n",
    "\n",
    "# Create TfidfVectorizer object\n",
    "tfidf_vectorizer = TfidfVectorizer()\n",
    "\n",
    "# Fit and transform the documents\n",
    "X_tfidf = tfidf_vectorizer.fit_transform(documents)\n",
    "\n",
    "# Convert sparse matrix to array for readability (optional)\n",
    "X_tfidf_array = X_tfidf.toarray()\n",
    "\n",
    "# Display the vocabulary (unique words)\n",
    "print(\"Vocabulary (unique words):\", tfidf_vectorizer.get_feature_names_out())\n",
    "\n",
    "# Display the TF-IDF matrix\n",
    "print(\"TF-IDF Matrix:\")\n",
    "print(X_tfidf_array)\n"
   ]
  },
  {
   "cell_type": "markdown",
   "metadata": {},
   "source": [
    "# Apply what has been explained to the data set and  create an input (X bag of words after NLP process ) and an output ( Y the liked )"
   ]
  },
  {
   "cell_type": "code",
   "execution_count": null,
   "metadata": {},
   "outputs": [],
   "source": [
    "# # Creating the Bag of Words model\n",
    "from sklearn.feature_extraction.text import CountVectorizer\n",
    "cv = CountVectorizer(max_features = 1573)\n",
    "X = cv.fit_transform(corpus).toarray()\n",
    "y = data.iloc[:,1:].values"
   ]
  },
  {
   "cell_type": "markdown",
   "metadata": {},
   "source": [
    "# Apply Machine learning models such as ( Naive Bayes and logistic Regression )"
   ]
  },
  {
   "cell_type": "code",
   "execution_count": null,
   "metadata": {},
   "outputs": [],
   "source": [
    "# Splitting the dataset into the Training set and Test set\n",
    "from sklearn.model_selection import train_test_split\n",
    "X_train, X_test, y_train, y_test = train_test_split(X, y, test_size = 0.20, random_state = 0)\n",
    "\n",
    "# Training the Naive Bayes model on the Training set\n",
    "from sklearn.naive_bayes import GaussianNB\n",
    "classifier = GaussianNB()\n",
    "classifier.fit(X_train, y_train)\n",
    "\n",
    "\n",
    "from sklearn.linear_model import LogisticRegression\n",
    "logreg = LogisticRegression()\n",
    "logreg.fit(X_train, y_train)\n",
    "\n",
    "\n",
    "# Predicting the Test set results\n",
    "y_pred =logreg.predict(X_test)\n",
    "from sklearn.metrics import accuracy_score\n",
    "\n",
    "print(accuracy_score(y_test, y_pred))"
   ]
  },
  {
   "cell_type": "markdown",
   "metadata": {},
   "source": [
    "\n",
    "\n",
    "# Here are some resources to delve deeper into NLP:\n",
    "\n",
    "- Books:\n",
    "\"Speech and Language Processing\" by Jurafsky and Martin\n",
    "\"Natural Language Processing with Python\" by Bird, Klein, and Loper\n",
    "- Online Courses:\n",
    "https://online.stanford.edu/courses/cs230-deep-learning (Stanford)\n",
    "https://course.fast.ai/ (fast.ai)\n",
    "Remember, this is a simplified overview. As you progress, you'll encounter more advanced NLP techniques and delve deeper into specific areas like sentiment analysis or topic modeling."
   ]
  },
  {
   "cell_type": "markdown",
   "metadata": {},
   "source": []
  }
 ],
 "metadata": {
  "kernelspec": {
   "display_name": "Python 3",
   "language": "python",
   "name": "python3"
  },
  "language_info": {
   "codemirror_mode": {
    "name": "ipython",
    "version": 3
   },
   "file_extension": ".py",
   "mimetype": "text/x-python",
   "name": "python",
   "nbconvert_exporter": "python",
   "pygments_lexer": "ipython3",
   "version": "3.10.4"
  }
 },
 "nbformat": 4,
 "nbformat_minor": 2
}
