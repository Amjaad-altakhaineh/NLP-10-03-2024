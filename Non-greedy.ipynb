{
 "cells": [
  {
   "cell_type": "markdown",
   "metadata": {},
   "source": [
    "## -----------------------------WHY \"?\"----------------------------\n",
    "# 1. Matching the Shortest Possible String:\n",
    "\n",
    "When you want to match the shortest possible string between two specific patterns, you can use *?. For example:\n",
    "pattern = r'<.*?>': This pattern matches HTML tags but does so in a non-greedy way, ensuring that it matches the shortest possible tag."
   ]
  },
  {
   "cell_type": "code",
   "execution_count": 5,
   "metadata": {},
   "outputs": [
    {
     "name": "stdout",
     "output_type": "stream",
     "text": [
      "['<div>', '<b>', '</b>', '<i>', '</i>', '</div>']\n"
     ]
    }
   ],
   "source": [
    "import re\n",
    "html_text = \"<div>This is <b>bold</b> and <i>italic</i></div>\"\n",
    "pattern = r'<.*?>'\n",
    "matches = re.findall(pattern, html_text)\n",
    "print(matches)\n"
   ]
  },
  {
   "cell_type": "code",
   "execution_count": 4,
   "metadata": {},
   "outputs": [
    {
     "name": "stdout",
     "output_type": "stream",
     "text": [
      "['<div>This is <b>bold</b> and <i>italic</i></div>']\n"
     ]
    }
   ],
   "source": [
    "# Without ? ( take all things from the first < to the last > )\n",
    "import re\n",
    "html_text = \"<div>This is <b>bold</b> and <i>italic</i></div>\"\n",
    "pattern = r'<.*>'\n",
    "matches = re.findall(pattern, html_text)\n",
    "print(matches)"
   ]
  },
  {
   "cell_type": "markdown",
   "metadata": {},
   "source": [
    "# 2- Avoiding Over-Matching: \n",
    "If you have a pattern that could potentially match more than you intend, you can use *? to avoid over-matching. For example: pattern = r'a.*?b': This pattern matches anything starting with 'a' and ending with 'b', but it will match the shortest string possible. Without *?, it would match the longest string starting with 'a' and ending with 'b'."
   ]
  },
  {
   "cell_type": "code",
   "execution_count": 1,
   "metadata": {},
   "outputs": [
    {
     "name": "stdout",
     "output_type": "stream",
     "text": [
      "['aab', 'ab', 'ab']\n"
     ]
    }
   ],
   "source": [
    "import re\n",
    "text = \"aabababb\"\n",
    "pattern = r'a.*?b'\n",
    "matches = re.findall(pattern, text)\n",
    "print(matches)"
   ]
  },
  {
   "cell_type": "code",
   "execution_count": 2,
   "metadata": {},
   "outputs": [
    {
     "name": "stdout",
     "output_type": "stream",
     "text": [
      "['aabababb']\n"
     ]
    }
   ],
   "source": [
    "import re\n",
    "text = \"aabababb\"\n",
    "pattern = r'a.*b'\n",
    "matches = re.findall(pattern, text)\n",
    "print(matches)"
   ]
  },
  {
   "cell_type": "markdown",
   "metadata": {},
   "source": [
    "# 3- Matching Optional Patterns:\n",
    " When you have an optional pattern that may or may not be present, and you want to match it if it exists, you can use *?. For example:pattern = r'a.*?b': This pattern matches 'a' followed by any characters (zero or more), then 'b'. The *? ensures that if 'b' is not present, it still matches the 'a' part."
   ]
  },
  {
   "cell_type": "code",
   "execution_count": 3,
   "metadata": {},
   "outputs": [
    {
     "name": "stdout",
     "output_type": "stream",
     "text": [
      "['sample text with optional pattern']\n"
     ]
    }
   ],
   "source": [
    "import re\n",
    "text = \"This is a sample text with optional pattern\"\n",
    "pattern = r'sample.*?pattern'\n",
    "matches = re.findall(pattern, text)\n",
    "print(matches)\n"
   ]
  },
  {
   "cell_type": "markdown",
   "metadata": {},
   "source": [
    "# 4- Capturing the Smallest Group: \n",
    "\n",
    "When capturing groups in regular expressions, *? can be used to capture the smallest possible group. For example:pattern = r'(.*?)(\\d+)': This pattern captures the smallest group of characters followed by digits. Without *?, it would capture the longest group of characters possible followed by digits."
   ]
  },
  {
   "cell_type": "code",
   "execution_count": 4,
   "metadata": {},
   "outputs": [
    {
     "name": "stdout",
     "output_type": "stream",
     "text": [
      "[('abc', '123'), ('def', '456'), ('ghi', '789')]\n"
     ]
    }
   ],
   "source": [
    "import re\n",
    "text = \"abc123def456ghi789\"\n",
    "pattern = r'(.*?)(\\d+)'\n",
    "matches = re.findall(pattern, text)\n",
    "print(matches)\n"
   ]
  },
  {
   "cell_type": "markdown",
   "metadata": {},
   "source": []
  }
 ],
 "metadata": {
  "kernelspec": {
   "display_name": "Python 3",
   "language": "python",
   "name": "python3"
  },
  "language_info": {
   "codemirror_mode": {
    "name": "ipython",
    "version": 3
   },
   "file_extension": ".py",
   "mimetype": "text/x-python",
   "name": "python",
   "nbconvert_exporter": "python",
   "pygments_lexer": "ipython3",
   "version": "3.10.4"
  }
 },
 "nbformat": 4,
 "nbformat_minor": 2
}
